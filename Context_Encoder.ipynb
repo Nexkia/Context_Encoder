{
  "nbformat": 4,
  "nbformat_minor": 0,
  "metadata": {
    "colab": {
      "name": "Context_Encoder_.ipynb",
      "provenance": [],
      "collapsed_sections": [],
      "machine_shape": "hm"
    },
    "kernelspec": {
      "name": "python3",
      "display_name": "Python 3"
    },
    "language_info": {
      "name": "python"
    },
    "accelerator": "GPU"
  },
  "cells": [
    {
      "cell_type": "markdown",
      "metadata": {
        "id": "eysmOFJ3Ck8a"
      },
      "source": [
        "##Context Encoder\n"
      ]
    },
    {
      "cell_type": "markdown",
      "metadata": {
        "id": "XBABuQd-EJ6W"
      },
      "source": [
        "### Import modules"
      ]
    },
    {
      "cell_type": "code",
      "metadata": {
        "id": "rtNiCbJ1sQQn"
      },
      "source": [
        "# Import all needed modules\n",
        "import os\n",
        "import zipfile \n",
        "import gdown\n",
        "import torch\n",
        "import time\n",
        "import torchvision.transforms as T\n",
        "import random as rnd\n",
        "import torch.backends.cudnn as cudnn\n",
        "import torch.nn as nn\n",
        "import torch.nn.functional as F\n",
        "import torch.optim as optim\n",
        "from natsort import natsorted\n",
        "from PIL import Image\n",
        "from matplotlib import pyplot as plt\n",
        "from torchvision.transforms import functional as TF\n",
        "from torchvision.utils import make_grid,save_image\n",
        "from torchvision.datasets import ImageFolder,DatasetFolder\n",
        "from torch.utils.data import Dataset,DataLoader,Subset\n",
        "from torch.autograd import Variable\n",
        "from torchvision.transforms import InterpolationMode\n",
        "from numpy.random import choice\n",
        "from numpy.random import seed as np_seed"
      ],
      "execution_count": 1,
      "outputs": []
    },
    {
      "cell_type": "markdown",
      "metadata": {
        "id": "Ga2i6OSBdiOF"
      },
      "source": [
        "###Download and prepare the dataset folder"
      ]
    },
    {
      "cell_type": "code",
      "metadata": {
        "id": "AFrQCRwFddrP"
      },
      "source": [
        "# Path to root folder\n",
        "data_root = 'data/celeba'\n",
        "# Path to folder with the dataset\n",
        "dataset_folder = f'{data_root}/img_align_celeba'\n",
        "# URL for the CelebA dataset\n",
        "url = 'https://drive.google.com/uc?id=1cNIac61PSA_LqDFYFUeyaQYekYPc75NH'\n",
        "# Path to download the dataset to\n",
        "download_path = f'{data_root}/img_align_celeba.zip'\n",
        "\n",
        "# Create required directories \n",
        "if not os.path.exists(data_root):\n",
        "  os.makedirs(data_root)\n",
        "  os.makedirs(dataset_folder)\n",
        "\n",
        "# Download the dataset from google drive\n",
        "if not os.path.isfile(download_path):\n",
        "  gdown.download(url, download_path, quiet=True)  \n",
        "  # Unzip the downloaded file \n",
        "  with zipfile.ZipFile(download_path, 'r') as ziphandler:\n",
        "    ziphandler.extractall(dataset_folder)\n",
        "    \n",
        "## Load the dataset \n",
        "# Path to directory with all the images\n",
        "img_folder = f'{dataset_folder}/img_align_celeba'"
      ],
      "execution_count": 2,
      "outputs": []
    },
    {
      "cell_type": "code",
      "metadata": {
        "id": "FF76YjtQwA4m"
      },
      "source": [
        "## Create a custom Dataset class\n",
        "class CelebADataset(Dataset):\n",
        "  def __init__(self, root_dir, transform=None):\n",
        "    \"\"\"\n",
        "    Args:\n",
        "      root_dir (string): Directory with all the images\n",
        "      transform (callable, optional): transform to be applied to each image sample\n",
        "    \"\"\"\n",
        "    # Read names of images in the root directory\n",
        "    image_names = os.listdir(root_dir)\n",
        "    self.root_dir = root_dir\n",
        "    self.transform = transform \n",
        "    self.image_names = natsorted(image_names)\n",
        "\n",
        "  def __len__(self): \n",
        "    return len(self.image_names)\n",
        "\n",
        "  def __getitem__(self, idx):\n",
        "    # Get the path to the image \n",
        "    img_path = os.path.join(self.root_dir, self.image_names[idx])\n",
        "    # Load image and convert it to RGB\n",
        "    img = Image.open(img_path).convert('RGB')\n",
        "    # Apply transformations to the image\n",
        "    if self.transform:\n",
        "        img = self.transform(img)\n",
        "    return img"
      ],
      "execution_count": 3,
      "outputs": []
    },
    {
      "cell_type": "markdown",
      "metadata": {
        "id": "NywsDP-5DaYi"
      },
      "source": [
        "#### Define Variables "
      ]
    },
    {
      "cell_type": "code",
      "metadata": {
        "id": "RjcF4YvzwNDe",
        "colab": {
          "base_uri": "https://localhost:8080/"
        },
        "outputId": "f6dfa581-cc9a-496f-d8de-18c67afbf6a6"
      },
      "source": [
        "# cudnn will look for the optimal set of algorithms for that particular configuration False for Reproducibility | True for better performance\n",
        "cudnn.benchmark = False \n",
        "# Enable cuda if available\n",
        "if torch.cuda.is_available():\n",
        "  Tensor = torch.cuda.FloatTensor\n",
        "  dev = 'cuda'\n",
        "else :\n",
        "  Tensor = torch.FloatTensor\n",
        "  dev = 'cpu'\n",
        "#set random seed\n",
        "seed_value = torch.randint(0,1000,(1,),device=dev).item()\n",
        "##else manual seed\n",
        "#seed_value = 0 \n",
        "print(f\"seed value: {seed_value}\")\n",
        "rnd.seed(seed_value)\n",
        "torch.manual_seed(seed_value)\n",
        "np_seed(seed_value)\n",
        "# Enable deterministic_algorithms for replayability \n",
        "torch.use_deterministic_algorithms(True)\n",
        "\n",
        "norm_mean = (0.5, 0.5, 0.5)\n",
        "norm_std = (0.5, 0.5, 0.5)\n",
        "# Number of channel RGB 3\n",
        "channel = 3 \n",
        "# Imgage size will be Cx128x128\n",
        "img_size = 128\n",
        "# Mask size it's the size of center mask Cx64x64\n",
        "mask_size = 64\n",
        "# Number of pixels overlapped\n",
        "overlapPred = 4  \n",
        "# Size of batches\n",
        "batch_size = 64\n",
        "#  the lower is res value, the more continuous the output will be.\n",
        "## Value to generate a random patter of 1 and 0 to create a random region\n",
        "res = 0.06\n",
        "density = 0.25\n",
        "MAX_SIZE = 10000\n",
        "# Paths \n",
        "save_path_discriminator = \"/content/checkpoint_discriminator.pth\"\n",
        "save_path_generator = \"/content/checkpoint_generator.pth\"\n",
        "# Restore backups\n",
        "restore = False\n",
        "#Transform definition\n",
        "resize = T.Resize(img_size,InterpolationMode.BICUBIC) \n",
        "center_crop = T.CenterCrop(img_size)\n",
        "to_tensor = T.ToTensor()\n",
        "normalize = T.Normalize(norm_mean, norm_std)\n",
        "# Compose\n",
        "transform = T.Compose([resize,center_crop,to_tensor, normalize\n",
        "])"
      ],
      "execution_count": 4,
      "outputs": [
        {
          "output_type": "stream",
          "text": [
            "seed value: 596\n"
          ],
          "name": "stdout"
        }
      ]
    },
    {
      "cell_type": "code",
      "metadata": {
        "id": "Feg9WS1bvLr8"
      },
      "source": [
        "# Load the dataset from file and apply transformations\n",
        "celeba_dataset = CelebADataset(img_folder, transform)\n",
        "# Split training and testset\n",
        "num_train = len(celeba_dataset)\n",
        "train_idx = list(range(num_train))\n",
        "rnd.shuffle(train_idx)\n",
        "test_frac = 0.3\n",
        "num_test = int(num_train*test_frac)\n",
        "num_train = num_train - num_test\n",
        "test_idx = train_idx[num_train:]\n",
        "train_idx = train_idx[:num_train]\n",
        "test_dataset = Subset(celeba_dataset, test_idx)\n",
        "train_dataset = Subset(celeba_dataset, train_idx)\n",
        "\n",
        "train_loader = DataLoader(train_dataset,batch_size=batch_size,num_workers=2,shuffle=True,drop_last=True,pin_memory = True)\n",
        "test_loader= DataLoader(test_dataset,batch_size=batch_size,num_workers=2,shuffle=True,drop_last=True,pin_memory = True)"
      ],
      "execution_count": 5,
      "outputs": []
    },
    {
      "cell_type": "markdown",
      "metadata": {
        "id": "KhbT5vPd7wJm"
      },
      "source": [
        "### Function definition "
      ]
    },
    {
      "cell_type": "markdown",
      "metadata": {
        "id": "vFYK2ehGJFis"
      },
      "source": [
        "#### Mask Function\n"
      ]
    },
    {
      "cell_type": "code",
      "metadata": {
        "id": "Fl-fTqBo7tx9"
      },
      "source": [
        "def generate_pattern():   \n",
        "    low_pattern = Variable(Tensor(int(res*MAX_SIZE),int(res*MAX_SIZE)), requires_grad=False)\n",
        "    low_pattern = low_pattern.uniform_(0,1).mul(255)\n",
        "    pattern = TF.resize(TF.to_pil_image(low_pattern),(MAX_SIZE,MAX_SIZE))\n",
        "    low_patter= None\n",
        "    pattern = to_tensor(pattern).to(dev)\n",
        "    #lt gives a boolean matrix of 75% 0 and 25% true based on density \n",
        "    pattern = torch.lt(pattern,density).squeeze(0)\n",
        "    return pattern\n",
        "\n",
        "def apply_random_masks(images,pattern):\n",
        "    wastedIter = 0\n",
        "    while True:\n",
        "        x =  torch.randint(1,MAX_SIZE-img_size,(1,),device=dev).item()\n",
        "        y =  torch.randint(1,MAX_SIZE-img_size,(1,),device=dev).item()\n",
        "        # Select from the patter a random region of true/false\n",
        "        mask = pattern[y:y+img_size,x:x+img_size] \n",
        "        area = (mask.sum().item())*100/(img_size*img_size)\n",
        "        #the area should be 1/4 of the image\n",
        "        if area>20 and area<30:\n",
        "            #print('wasted tries: ',wastedIter)\n",
        "            break\n",
        "        wastedIter = wastedIter + 1\n",
        "    mask.unsqueeze_(0).cuda()\n",
        "    mask = mask.repeat(batch_size,channel, 1, 1)\n",
        "    vector  = [2*117.0/255.0 - 1.0,2*104.0/255.0 - 1.0,2*123.0/255.0 - 1.0] #mean values for each colours \n",
        "    #trunk to float \n",
        "    for n in vector:\n",
        "        float(n)\n",
        "    ### fix a bug with pytorch    \n",
        "    mask = mask.float().cpu()\n",
        "    for i in range(3):\n",
        "      color_d = mask[:,i,:,:]\n",
        "      color_d[color_d==1] = vector[i]\n",
        "\n",
        "    index_to_substitute = mask!=0  \n",
        "    images = images.cpu()\n",
        "    images[index_to_substitute] = 0\n",
        "    # sum images with the mask made up of 0 and 1    \n",
        "    sum_img = images +mask\n",
        "    sum_img.cuda()\n",
        "\n",
        "    return sum_img\n",
        "\n",
        "def apply_random_blocks(images):\n",
        "        #create 8 mini blocks on the image\n",
        "        size_mini_block = 22\n",
        "        for x in range(8):\n",
        "            y1 = torch.randint(1,img_size-overlapPred-size_mini_block,(1,),device=dev).item()\n",
        "            x1 = torch.randint(1,img_size-overlapPred-size_mini_block,(1,),device=dev).item()\n",
        "            y2, x2 = y1 + size_mini_block, x1 + size_mini_block\n",
        "            #mean values for each colours \n",
        "            images[:,0, y1+overlapPred:y2-overlapPred, x1+overlapPred:x2-overlapPred] = 2*117.0/255.0 - 1.0\n",
        "            images[:,1, y1+overlapPred:y2-overlapPred, x1+overlapPred:x2-overlapPred] = 2*104.0/255.0 - 1.0\n",
        "            images[:,2, y1+overlapPred:y2-overlapPred, x1+overlapPred:x2-overlapPred] = 2*123.0/255.0 - 1.0\n",
        "        return images\n",
        "\n",
        "def apply_center_mask(images):\n",
        "    img = images.clone()\n",
        "    #remove center of the images with mean values for each colours \n",
        "    img[:,0,(mask_size//2)+overlapPred:img_size-(mask_size//2)-overlapPred,(mask_size//2)+overlapPred:img_size-(mask_size//2)-overlapPred]  = 2*117.0/255.0 - 1.0\n",
        "    img[:,1,(mask_size//2)+overlapPred:img_size-(mask_size//2)-overlapPred,(mask_size//2)+overlapPred:img_size-(mask_size//2)-overlapPred]  = 2*104.0/255.0 - 1.0\n",
        "    img[:,2,(mask_size//2)+overlapPred:img_size-(mask_size//2)-overlapPred,(mask_size//2)+overlapPred:img_size-(mask_size//2)-overlapPred]  = 2*123.0/255.0 - 1.0\n",
        "    return img\n",
        "\n",
        "def get_center(images):\n",
        "    # get the center of the images\n",
        "    center = images.clone()\n",
        "    center = center[:,:,(mask_size//2):img_size-(mask_size//2),(mask_size//2):img_size-(mask_size//2)]  \n",
        "    return center\n",
        "\n",
        "def choise_mask(images,pattern,T=-4):\n",
        "    '''  \n",
        "     images: images to process\n",
        "     patter: the matrix to extrapolate random region useful only for apply_random_masks\n",
        "     T: default generate a random uniform value that choice one of the masks to apply\n",
        "     lternative you can choice one specific \n",
        "    '''\n",
        "    apply_mask = images.clone()   \n",
        "    if T < -1 :\n",
        "        value = torch.randint(0,3,(1,),device=dev).item()\n",
        "    else :\n",
        "      value = T\n",
        "    if value == 0:\n",
        "        return apply_random_blocks(apply_mask)\n",
        "    if value == 1:\n",
        "       return  apply_center_mask(apply_mask)\n",
        "    if value == 2:\n",
        "        return apply_random_masks(apply_mask,pattern)        "
      ],
      "execution_count": 6,
      "outputs": []
    },
    {
      "cell_type": "markdown",
      "metadata": {
        "id": "CHig_OfvJK2E"
      },
      "source": [
        "#### Labels noise function\n"
      ]
    },
    {
      "cell_type": "code",
      "metadata": {
        "id": "8tPM-fGhJTdi"
      },
      "source": [
        "def noisy_labels(y, p_flip) :\n",
        "  # determine the number of labels to flip\n",
        "  n_select = int(p_flip * y.shape[0])\n",
        "  # choose labels to flip\n",
        "  flip_ix = choice([i for i in range(y.shape[0])], size=n_select)\n",
        "  # invert the labels in place\n",
        "  y[flip_ix] = 1 - y[flip_ix]\n",
        "  return y\n",
        "\n",
        "def label_smoothing_valid(label) :\n",
        "  label = label - 0.1 + (torch.rand(valid.shape,device=dev)*0.1)\n",
        "  for i in range(batch_size):\n",
        "    # for flipped 0 values that are negative \n",
        "    if label[i]<0.9:\n",
        "    # multiply -1 to turn positive\n",
        "        label[i] *=-1 \n",
        "  return label\n",
        "def label_smoothing_fake(label) :\n",
        "  label = label + (torch.rand(valid.shape,device=dev)*0.1)\n",
        "  for i in range(batch_size):\n",
        "    # for flipped 1 values that are greater then 1 \n",
        "    if label[i]>1.0:\n",
        "        label[i] +=-0.1 \n",
        "  return label    \n"
      ],
      "execution_count": 7,
      "outputs": []
    },
    {
      "cell_type": "markdown",
      "metadata": {
        "id": "Jdre3w0EJaXn"
      },
      "source": [
        "#### Training function\n"
      ]
    },
    {
      "cell_type": "code",
      "metadata": {
        "id": "gr230zsgJdiK"
      },
      "source": [
        "def weights_init_normal(m):\n",
        "    # Initialize model\n",
        "    classname = m.__class__.__name__\n",
        "    if classname.find(\"Conv\") != -1:\n",
        "        torch.nn.init.normal_(m.weight.data, 0.0, 0.02)\n",
        "    elif classname.find(\"BatchNorm2d\") != -1:\n",
        "        torch.nn.init.normal_(m.weight.data, 1.0, 0.02)\n",
        "        torch.nn.init.constant_(m.bias.data, 0.0)\n",
        "        \n",
        "def Models():\n",
        "    #Create model \n",
        "    latent_dim = 4000\n",
        "    g_net=Generator(latent_dim)\n",
        "    d_net=Discriminator()\n",
        "    g_optimizer = optim.Adam(g_net.parameters(), lr=0.0002, betas=(0.5,0.999), weight_decay=5e-4)\n",
        "    d_optimizer = optim.Adam(d_net.parameters(), lr=0.0002, betas=(0.5,0.999), weight_decay=5e-4)\n",
        "    # Move models\n",
        "    g_net = g_net.to(dev)\n",
        "    d_net = d_net.to(dev)\n",
        "    return g_net,d_net,g_optimizer,d_optimizer\n",
        "\n",
        "def compare_and_save(photo_to_save,path,test_loader,g_net):\n",
        "    test_image= next(iter(test_loader))\n",
        "    test_image = test_image.to(dev)\n",
        "    test_masked_imgs =test_image.clone() \n",
        "    if not os.path.exists(path):\n",
        "        os.makedirs(path)\n",
        "    with torch.no_grad():\n",
        "                # Removing center from the test sample\n",
        "                sample = apply_center_mask(test_image)\n",
        "                # Forward (generator)\n",
        "                g_sample = g_net(sample)\n",
        "                # Impanting the image generated to the original\n",
        "                test_masked_imgs[:,:,(mask_size//2):img_size-(mask_size//2),(mask_size//2):img_size-(mask_size//2)] = g_sample.data\n",
        "                for i in range(photo_to_save):\n",
        "                    generated =  (test_image[i,:,:,:]).unsqueeze(0)\n",
        "                    original =  (test_masked_imgs[i,:,:,:]).unsqueeze(0)\n",
        "                    compare = torch.cat((original, generated), 0).clone()\n",
        "                    save_image(compare, path+\"%d.png\" % i, nrow=2, normalize=True)   \n",
        "\n",
        "def training(train_loader,test_loader,labels_noise=False,wtl2= 0.999,last_epoch=200,save_photos_interval=10,overlapL2Weight=10):\n",
        "    '''\n",
        "    train_loader: Dataloader of train data\n",
        "    test_loader : Dataloader of test data\n",
        "    labels_noise: Boolean that enable labels smoothing and flipping\n",
        "    wtl2: param to weights losses \n",
        "    last_epoch: number of last epoch\n",
        "    save_photos_interval: set interval of every x epoch generate photos to compare\n",
        "    overlapL2Weight: weights amplified \n",
        "\n",
        "    '''\n",
        "    # Define labels \n",
        "    valid = Variable(Tensor(batch_size).fill_(1.0), requires_grad=False)\n",
        "    fake = Variable(Tensor(batch_size).fill_(0.0), requires_grad=False)\n",
        "    path_toSave_photos = \"/content/images/\"\n",
        "    total_time = 0\n",
        "    pattern = generate_pattern()\n",
        "    # load test image\n",
        "    test_image= next(iter(test_loader))\n",
        "    test_image = test_image.to(dev)\n",
        "    test_masked_imgs =test_image.clone() \n",
        "    # Create the models \n",
        "    g_net,d_net,g_optimizer,d_optimizer = Models()\n",
        "    # If backup it's available load it \n",
        "    if os.path.isfile(save_path_discriminator) and os.path.isfile(save_path_generator) and restore:\n",
        "        checkpoint_d =  torch.load(save_path_discriminator)\n",
        "        checkpoint_g =  torch.load(save_path_generator)\n",
        "        d_net.load_state_dict(checkpoint_d['d_state_dict'])\n",
        "        d_optimizer.load_state_dict(checkpoint_d['optimizer_state_dict'])\n",
        "        d_loss = checkpoint_d['loss']\n",
        "        d_loss_fake = checkpoint_d['loss_fake']\n",
        "        d_loss_real = checkpoint_d['loss_real']\n",
        "        g_net.load_state_dict(checkpoint_g['g_state_dict'])\n",
        "        g_optimizer.load_state_dict(checkpoint_g['optimizer_state_dict'])\n",
        "        g_loss = checkpoint_g['loss']    \n",
        "        g_loss_pixel = checkpoint_g['loss_pixel']\n",
        "        g_loss_adv = checkpoint_g['loss_adv']\n",
        "        epoch_backup = checkpoint_g['epoch']+1\n",
        "        print(\"Discriminator and Generator restored\")\n",
        "    else :\n",
        "        epoch_backup = 0 \n",
        "        g_net.apply(weights_init_normal)\n",
        "        d_net.apply(weights_init_normal)\n",
        "        print(\"weight applied\")\n",
        "    try:\n",
        "        for epoch in range(epoch_backup,last_epoch):\n",
        "            # Losses\n",
        "            start = time.time()\n",
        "            sum_d_loss = 0\n",
        "            sum_d_fake_loss = 0\n",
        "            sum_d_real_loss = 0\n",
        "            sum_g_loss = 0\n",
        "            sum_g_loss_adv = 0\n",
        "            sum_g_loss_pixel = 0\n",
        "            # Training mode\n",
        "            d_net.train()\n",
        "            g_net.train()\n",
        "            # Process all training batches\n",
        "            i = 0\n",
        "    \n",
        "            for batch in train_loader:\n",
        "                batch = batch.to(dev)\n",
        "                # Move to device\n",
        "                i+=1\n",
        "                masked_parts = get_center(batch)\n",
        "                #masked_parts are the center of the images \n",
        "                masked_parts = Variable(masked_parts.type(Tensor))\n",
        "                masked_imgs = choise_mask(batch,pattern)\n",
        "                masked_imgs = Variable(masked_imgs.type(Tensor))\n",
        "\n",
        "                if labels_noise:\n",
        "                    # probability of flipping 0.05\n",
        "                    valid_flipped = noisy_labels(valid.clone(), 0.05)\n",
        "                    fake_flipped = noisy_labels(fake.clone(), 0.05)  \n",
        "                    valid_smooth = label_smoothing_valid(valid_flipped)\n",
        "                    fake_smooth = label_smoothing_fake(fake_flipped)   \n",
        "\n",
        "                ### Discriminator \n",
        "                # Reset discriminator gradient\n",
        "                d_optimizer.zero_grad()\n",
        "                # Forward (discriminator, real)\n",
        "                output = d_net(masked_parts) \n",
        "                # Compute loss (discriminator, real)\n",
        "                if labels_noise:\n",
        "                  d_real_loss =  F.binary_cross_entropy(output, valid_smooth)\n",
        "                else:\n",
        "                  d_real_loss =  F.binary_cross_entropy(output, valid)\n",
        "                # Backward (discriminator, real)\n",
        "                d_real_loss.backward()\n",
        "                sum_d_real_loss += d_real_loss.item()  \n",
        "                #generate sample from masked images         \n",
        "                g_output = g_net(masked_imgs)\n",
        "                # Forward (discriminator, fake; also generator forward pass)\n",
        "                output = d_net(g_output.detach()) # This prevents backpropagation from going inside the generator\n",
        "                # Compute loss (discriminator, fake)\n",
        "                if labels_noise:\n",
        "                  d_fake_loss = F.binary_cross_entropy(output, fake_smooth)\n",
        "                else:  \n",
        "                  d_fake_loss = F.binary_cross_entropy(output, fake)\n",
        "                # Backward (discriminator, fake)\n",
        "                d_fake_loss.backward()\n",
        "                sum_d_fake_loss += d_fake_loss.item()           \n",
        "                d_loss = 0.5*(d_fake_loss + d_real_loss)\n",
        "                sum_d_loss += d_loss.item()\n",
        "                # Update discriminator\n",
        "                d_optimizer.step()\n",
        "                ### Generator \n",
        "                g_optimizer.zero_grad()\n",
        "                # Forward (generator)\n",
        "                output =  d_net(g_output)\n",
        "                # Compute adversarial loss\n",
        "                g_loss_adv = F.binary_cross_entropy(output, valid)            \n",
        "                # Comput pixelwise loss\n",
        "                # but amplifying weights 10x \n",
        "                #g_loss_pixel =  criterionMSE(g_output,masked_parts)\n",
        "                wtl2Matrix = masked_parts.clone()\n",
        "                # OverlapL2weight = 10\n",
        "                wtl2Matrix.data.fill_(wtl2*overlapL2Weight)\n",
        "                wtl2Matrix.data[:,:,overlapPred:mask_size-overlapPred,overlapPred:mask_size-overlapPred] = wtl2\n",
        "                # MSE Loss\n",
        "                g_loss_pixel = (g_output-masked_parts).pow(2)\n",
        "                # Multiply \n",
        "                g_loss_pixel = g_loss_pixel * wtl2Matrix\n",
        "                g_loss_pixel = g_loss_pixel.mean()\n",
        "                # The losse it's the sum of adv and pixel\n",
        "                g_loss = (1-wtl2) * g_loss_adv + wtl2 * g_loss_pixel\n",
        "                sum_g_loss_adv += g_loss_adv.item()\n",
        "                sum_g_loss_pixel += g_loss_pixel.item()\n",
        "                sum_g_loss += g_loss.item()\n",
        "                # Backward (generator)\n",
        "                g_loss.backward()\n",
        "                # Update generator\n",
        "                g_optimizer.step()\n",
        "                if (i%700==0):\n",
        "                    print(f\"Batches {i}/{len(train_loader)}\")\n",
        "\n",
        "            # Epoch end, print losses\n",
        "            epoch_d_loss = sum_d_loss/len(train_loader)\n",
        "            epoch_d_real_loss = sum_d_real_loss/len(train_loader)\n",
        "            epoch_d_fake_loss = sum_d_fake_loss/len(train_loader)\n",
        "            epoch_g_loss_adv = sum_g_loss_adv/len(train_loader)\n",
        "            epoch_g_loss_pixel = sum_g_loss_pixel/len(train_loader)\n",
        "            epoch_g_loss = sum_g_loss/len(train_loader)\n",
        "            end = time.time()   \n",
        "            time_epoch = (end - start)/60\n",
        "            total_time +=time_epoch\n",
        "            # Save models\n",
        "            torch.save({'g_state_dict': g_net.state_dict(),\n",
        "                        'optimizer_state_dict': g_optimizer.state_dict(),\n",
        "                        'loss': g_loss,\n",
        "                        'loss_pixel': g_loss_pixel,\n",
        "                        'loss_adv': g_loss_adv,\n",
        "                        'epoch':epoch,\n",
        "                        }, save_path_generator)\n",
        "\n",
        "            torch.save({'d_state_dict': d_net.state_dict(),\n",
        "                        'optimizer_state_dict': d_optimizer.state_dict(),\n",
        "                        'loss_fake': d_fake_loss,\n",
        "                        'loss_real': d_real_loss,\n",
        "                        'loss': d_loss,\n",
        "                        'epoch': epoch\n",
        "                        }, save_path_discriminator)\n",
        "            if ((epoch+1)%save_photos_interval==0):\n",
        "                compare_and_save(64,path_toSave_photos,test_loader,g_net)\n",
        "            print(f\"Epoch {epoch+1} DL={epoch_d_loss:.4f} DR={epoch_d_real_loss:.4f} DF={epoch_d_fake_loss:.4f} GL={epoch_g_loss:.4f} GLP={epoch_g_loss_pixel:.4f} GLADV={epoch_g_loss_adv:.4f} Time {time_epoch:.1f}min Total Time: {total_time/60 :.1f}h\")\n",
        "            # Evaluation mode\n",
        "            g_net.eval()\n",
        "            with torch.no_grad():\n",
        "                # Removing center from the test sample\n",
        "                sample = apply_center_mask(test_image)\n",
        "                # Forward (generator)\n",
        "                g_sample = g_net(sample)\n",
        "                # Impanting the image generated to the original\n",
        "                test_masked_imgs[:,:,(mask_size//2):img_size-(mask_size//2),(mask_size//2):img_size-(mask_size//2)] = g_sample.data\n",
        "                plt.imshow(TF.to_pil_image(make_grid(test_masked_imgs[:4], scale_each=True, normalize=True).cpu()))\n",
        "                plt.axis('off')\n",
        "                plt.show()\n",
        "                \n",
        "    except KeyboardInterrupt:\n",
        "          print(\"Interrupted\")            "
      ],
      "execution_count": 8,
      "outputs": []
    },
    {
      "cell_type": "markdown",
      "metadata": {
        "id": "xqRyfOsA8T7d"
      },
      "source": [
        "### Model definition"
      ]
    },
    {
      "cell_type": "code",
      "metadata": {
        "id": "nnhkNphJvXUD"
      },
      "source": [
        "# Generator model\n",
        "class Generator(nn.Module):\n",
        "    def __init__(self, noise_size,base_filters=64):\n",
        "        # Call parent\n",
        "        super().__init__()\n",
        "        nf = base_filters\n",
        "        self.layers = nn.Sequential(\n",
        "            nn.Conv2d(channel, nf, 4, 2, 1,bias=False), \n",
        "            nn.LeakyReLU(0.2, True),\n",
        "            nn.Conv2d(nf, nf, 4, 2, 1,bias=False), \n",
        "            nn.BatchNorm2d(nf),\n",
        "            nn.LeakyReLU(0.2, True),\n",
        "            nn.Conv2d(nf, nf*2, 4, 2, 1,bias=False), \n",
        "            nn.BatchNorm2d(nf*2),\n",
        "            nn.LeakyReLU(0.2, True),\n",
        "            nn.Conv2d(nf*2, nf*4, 4, 2, 1,bias=False), \n",
        "            nn.BatchNorm2d(nf*4),\n",
        "            nn.LeakyReLU(0.2, True),\n",
        "            nn.Conv2d(nf*4, nf*8, 4, 2, 1,bias=False), \n",
        "            nn.BatchNorm2d(nf*8),\n",
        "            nn.LeakyReLU(0.2, True),\n",
        "            nn.Conv2d(nf*8, noise_size, 4,bias=False), \n",
        "            nn.Sequential(\n",
        "              nn.BatchNorm2d(noise_size),\n",
        "              nn.LeakyReLU(0.2, True),\n",
        "              nn.ConvTranspose2d(noise_size, nf*8, 4, 1, 0,bias=False), \n",
        "              nn.BatchNorm2d(nf*8),\n",
        "              nn.ReLU(True),\n",
        "              nn.ConvTranspose2d(nf*8, nf*4, 4, 2, 1,bias=False), \n",
        "              nn.BatchNorm2d(nf*4),\n",
        "              nn.ReLU(True),\n",
        "              nn.ConvTranspose2d(nf*4, nf*2, 4, 2, 1,bias=False), \n",
        "              nn.BatchNorm2d(nf*2),\n",
        "              nn.ReLU(True),\n",
        "              nn.ConvTranspose2d(nf*2, nf, 4, 2, 1,bias=False), \n",
        "              nn.BatchNorm2d(nf),\n",
        "              nn.ReLU(True),\n",
        "              nn.ConvTranspose2d(nf, channel, 4, 2, 1,bias=False), \n",
        "              nn.Tanh())\n",
        "        )\n",
        "    def forward(self, x):\n",
        "        x = self.layers(x)\n",
        "        return x"
      ],
      "execution_count": 9,
      "outputs": []
    },
    {
      "cell_type": "code",
      "metadata": {
        "id": "mNlh9Fq9vX8D"
      },
      "source": [
        "class Discriminator(nn.Module):\n",
        "    def __init__(self, base_filters=64):\n",
        "        # Call parent\n",
        "        super().__init__()\n",
        "        nf = base_filters\n",
        "        self.layers = nn.Sequential(\n",
        "            nn.Conv2d(3, nf, 4, 2, 1,bias=False), \n",
        "            nn.LeakyReLU(0.2, True),\n",
        "            nn.Conv2d(nf, nf*2, 4, 2, 1,bias=False), \n",
        "            nn.BatchNorm2d(nf*2),\n",
        "            nn.LeakyReLU(0.2, True),\n",
        "            nn.Conv2d(nf*2, nf*4, 4, 2, 1,bias=False), \n",
        "            nn.BatchNorm2d(nf*4),\n",
        "            nn.LeakyReLU(0.2, True),\n",
        "            nn.Conv2d(nf*4, nf*8, 4, 2, 1,bias=False), \n",
        "            nn.BatchNorm2d(nf*8),\n",
        "            nn.LeakyReLU(0.2, True),\n",
        "            nn.Conv2d(nf*8, 1, 4, 1, 0,bias=False), \n",
        "            nn.Sigmoid(),\n",
        "        )\n",
        "    def forward(self, x):\n",
        "        x = self.layers(x)\n",
        "        # Remove dimensions from output\n",
        "        x = x.view(-1)\n",
        "        return x"
      ],
      "execution_count": 10,
      "outputs": []
    },
    {
      "cell_type": "markdown",
      "metadata": {
        "id": "VKyuc6GxIA3c"
      },
      "source": [
        "### Training "
      ]
    },
    {
      "cell_type": "code",
      "metadata": {
        "id": "biy7ztJKB2pm",
        "colab": {
          "base_uri": "https://localhost:8080/",
          "height": 200
        },
        "outputId": "ff98ae3d-eef8-439c-afc4-36e3638d13c6"
      },
      "source": [
        "training(train_loader,test_loader)"
      ],
      "execution_count": null,
      "outputs": [
        {
          "output_type": "stream",
          "text": [
            "weight applied\n",
            "Batches 700/2215\n",
            "Batches 1400/2215\n",
            "Batches 2100/2215\n",
            "Epoch 1 DL=0.1527 DR=0.1682 DF=0.1372 GL=0.1616 GLP=0.1560 GLADV=5.7621 Time 3.6min Total Time: 0.1h\n"
          ],
          "name": "stdout"
        },
        {
          "output_type": "display_data",
          "data": {
            "image/png": "[encoded data removed]",
            "text/plain": [
              "<Figure size 432x288 with 1 Axes>"
            ]
          },
          "metadata": {
            "tags": [],
            "needs_background": "light"
          }
        }
      ]
    }
  ]
}
